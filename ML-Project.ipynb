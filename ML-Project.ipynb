{
 "cells": [
  {
   "cell_type": "markdown",
   "metadata": {},
   "source": [
    "### Inserting the Necessary Libraries. \n",
    "### Numpy and pandas for preprocessing the dataset.\n",
    "### Seaborn for the visualization\n",
    "### Graphiz for the decision tree visualization."
   ]
  },
  {
   "cell_type": "code",
   "execution_count": null,
   "metadata": {},
   "outputs": [],
   "source": []
  },
  {
   "cell_type": "code",
   "execution_count": 83,
   "metadata": {},
   "outputs": [],
   "source": [
    "# Natural Language Processing\n",
    "\n",
    "# Importing the libraries\n",
    "import numpy as np\n",
    "import pandas as pd\n",
    "import seaborn as sns\n",
    "from graphviz import Source\n",
    "from sklearn import tree\n",
    "from IPython.display import SVG\n",
    "# Importing the dataset\n",
    "#Quoting=3 used for  ignoring the double quotes.\n",
    "df = pd.read_csv('C:/Users/Aditya/Downloads/Natural-Language-Processing/Natural_Language_Processing/Restaurant_Reviews.tsv', delimiter = '\\t', quoting=3)\n"
   ]
  },
  {
   "cell_type": "markdown",
   "metadata": {},
   "source": [
    "### This code is used to display the first 5 rows and all the attributes of the dataset "
   ]
  },
  {
   "cell_type": "code",
   "execution_count": 84,
   "metadata": {},
   "outputs": [
    {
     "data": {
      "text/html": [
       "<div>\n",
       "<style scoped>\n",
       "    .dataframe tbody tr th:only-of-type {\n",
       "        vertical-align: middle;\n",
       "    }\n",
       "\n",
       "    .dataframe tbody tr th {\n",
       "        vertical-align: top;\n",
       "    }\n",
       "\n",
       "    .dataframe thead th {\n",
       "        text-align: right;\n",
       "    }\n",
       "</style>\n",
       "<table border=\"1\" class=\"dataframe\">\n",
       "  <thead>\n",
       "    <tr style=\"text-align: right;\">\n",
       "      <th></th>\n",
       "      <th>Review</th>\n",
       "      <th>Liked</th>\n",
       "    </tr>\n",
       "  </thead>\n",
       "  <tbody>\n",
       "    <tr>\n",
       "      <th>0</th>\n",
       "      <td>Wow... Loved this place.</td>\n",
       "      <td>1</td>\n",
       "    </tr>\n",
       "    <tr>\n",
       "      <th>1</th>\n",
       "      <td>Crust is not good.</td>\n",
       "      <td>0</td>\n",
       "    </tr>\n",
       "    <tr>\n",
       "      <th>2</th>\n",
       "      <td>Not tasty and the texture was just nasty.</td>\n",
       "      <td>0</td>\n",
       "    </tr>\n",
       "    <tr>\n",
       "      <th>3</th>\n",
       "      <td>Stopped by during the late May bank holiday of...</td>\n",
       "      <td>1</td>\n",
       "    </tr>\n",
       "    <tr>\n",
       "      <th>4</th>\n",
       "      <td>The selection on the menu was great and so wer...</td>\n",
       "      <td>1</td>\n",
       "    </tr>\n",
       "  </tbody>\n",
       "</table>\n",
       "</div>"
      ],
      "text/plain": [
       "                                              Review  Liked\n",
       "0                           Wow... Loved this place.      1\n",
       "1                                 Crust is not good.      0\n",
       "2          Not tasty and the texture was just nasty.      0\n",
       "3  Stopped by during the late May bank holiday of...      1\n",
       "4  The selection on the menu was great and so wer...      1"
      ]
     },
     "execution_count": 84,
     "metadata": {},
     "output_type": "execute_result"
    }
   ],
   "source": [
    "df.head()"
   ]
  },
  {
   "cell_type": "markdown",
   "metadata": {},
   "source": [
    "### A new column is added to the dataset  that will store the lenght of the string calculated. "
   ]
  },
  {
   "cell_type": "code",
   "execution_count": 85,
   "metadata": {
    "scrolled": true
   },
   "outputs": [
    {
     "data": {
      "text/html": [
       "<div>\n",
       "<style scoped>\n",
       "    .dataframe tbody tr th:only-of-type {\n",
       "        vertical-align: middle;\n",
       "    }\n",
       "\n",
       "    .dataframe tbody tr th {\n",
       "        vertical-align: top;\n",
       "    }\n",
       "\n",
       "    .dataframe thead th {\n",
       "        text-align: right;\n",
       "    }\n",
       "</style>\n",
       "<table border=\"1\" class=\"dataframe\">\n",
       "  <thead>\n",
       "    <tr style=\"text-align: right;\">\n",
       "      <th></th>\n",
       "      <th>Review</th>\n",
       "      <th>Liked</th>\n",
       "      <th>text length</th>\n",
       "    </tr>\n",
       "  </thead>\n",
       "  <tbody>\n",
       "    <tr>\n",
       "      <th>0</th>\n",
       "      <td>Wow... Loved this place.</td>\n",
       "      <td>1</td>\n",
       "      <td>24</td>\n",
       "    </tr>\n",
       "    <tr>\n",
       "      <th>1</th>\n",
       "      <td>Crust is not good.</td>\n",
       "      <td>0</td>\n",
       "      <td>18</td>\n",
       "    </tr>\n",
       "    <tr>\n",
       "      <th>2</th>\n",
       "      <td>Not tasty and the texture was just nasty.</td>\n",
       "      <td>0</td>\n",
       "      <td>41</td>\n",
       "    </tr>\n",
       "    <tr>\n",
       "      <th>3</th>\n",
       "      <td>Stopped by during the late May bank holiday of...</td>\n",
       "      <td>1</td>\n",
       "      <td>87</td>\n",
       "    </tr>\n",
       "    <tr>\n",
       "      <th>4</th>\n",
       "      <td>The selection on the menu was great and so wer...</td>\n",
       "      <td>1</td>\n",
       "      <td>59</td>\n",
       "    </tr>\n",
       "  </tbody>\n",
       "</table>\n",
       "</div>"
      ],
      "text/plain": [
       "                                              Review  Liked  text length\n",
       "0                           Wow... Loved this place.      1           24\n",
       "1                                 Crust is not good.      0           18\n",
       "2          Not tasty and the texture was just nasty.      0           41\n",
       "3  Stopped by during the late May bank holiday of...      1           87\n",
       "4  The selection on the menu was great and so wer...      1           59"
      ]
     },
     "execution_count": 85,
     "metadata": {},
     "output_type": "execute_result"
    }
   ],
   "source": [
    "df['text length'] = df['Review'].apply(len)\n",
    "df.head()"
   ]
  },
  {
   "cell_type": "markdown",
   "metadata": {},
   "source": [
    "### This code is used for vizualization. The seaborn library is called here and a histogram is plotted. There are two histograms as there are two classes in the dataset."
   ]
  },
  {
   "cell_type": "code",
   "execution_count": 86,
   "metadata": {},
   "outputs": [
    {
     "data": {
      "text/plain": [
       "<seaborn.axisgrid.FacetGrid at 0x2bc009dd2b0>"
      ]
     },
     "execution_count": 86,
     "metadata": {},
     "output_type": "execute_result"
    },
    {
     "data": {
      "image/png": "[encoded data removed]",
      "text/plain": [
       "<Figure size 432x216 with 2 Axes>"
      ]
     },
     "metadata": {},
     "output_type": "display_data"
    }
   ],
   "source": [
    "g = sns.FacetGrid(data=df, col='Liked')\n",
    "g.map(plt.hist, 'text length', bins=50)"
   ]
  },
  {
   "cell_type": "markdown",
   "metadata": {},
   "source": [
    "### The Box is vizualized here for two classes available, The X axis will be the class and the Y axis will be the Text length."
   ]
  },
  {
   "cell_type": "code",
   "execution_count": null,
   "metadata": {},
   "outputs": [],
   "source": []
  },
  {
   "cell_type": "code",
   "execution_count": 87,
   "metadata": {},
   "outputs": [
    {
     "data": {
      "text/plain": [
       "<matplotlib.axes._subplots.AxesSubplot at 0x2bc00b56208>"
      ]
     },
     "execution_count": 87,
     "metadata": {},
     "output_type": "execute_result"
    },
    {
     "data": {
      "image/png": "[encoded data removed]",
      "text/plain": [
       "<Figure size 432x288 with 1 Axes>"
      ]
     },
     "metadata": {},
     "output_type": "display_data"
    }
   ],
   "source": [
    "sns.boxenplot(x='Liked', y='text length', data=df)"
   ]
  },
  {
   "cell_type": "markdown",
   "metadata": {},
   "source": [
    "### The nltk packgae is imported and the stopwords package is downloaded. The PortStemmer and the Stopwords libraries will help us clean the dataset. "
   ]
  },
  {
   "cell_type": "code",
   "execution_count": 88,
   "metadata": {},
   "outputs": [
    {
     "name": "stdout",
     "output_type": "stream",
     "text": [
      "[nltk_data] Downloading package stopwords to\n",
      "[nltk_data]     C:\\Users\\Aditya\\AppData\\Roaming\\nltk_data...\n",
      "[nltk_data]   Package stopwords is already up-to-date!\n"
     ]
    }
   ],
   "source": [
    "import re # Libraries for text cleaning\n",
    "import nltk\n",
    "nltk.download('stopwords')# downlaoding the package.\n",
    "from nltk.corpus import stopwords\n",
    "from nltk.stem.porter import PorterStemmer"
   ]
  },
  {
   "cell_type": "markdown",
   "metadata": {},
   "source": [
    "### A corpus file is created with the help of  PorterStemmer, Stopwords  and only selecting characters from A-Z  including spaces. "
   ]
  },
  {
   "cell_type": "code",
   "execution_count": 89,
   "metadata": {},
   "outputs": [
    {
     "data": {
      "text/plain": [
       "'select menu great price'"
      ]
     },
     "execution_count": 89,
     "metadata": {},
     "output_type": "execute_result"
    }
   ],
   "source": [
    "corpus = []\n",
    "for i in range(0, 1000):\n",
    "    review = re.sub('[^a-zA-Z]', ' ', df['Review'][i])\n",
    "    review = review.lower()\n",
    "    review = review.split()\n",
    "    ps = PorterStemmer()\n",
    "    review = [ps.stem(word) for word in review if not word in set(stopwords.words('english'))]\n",
    "    review = ' '.join(review)\n",
    "    corpus.append(review)\n",
    "corpus[4]"
   ]
  },
  {
   "cell_type": "markdown",
   "metadata": {},
   "source": [
    "### With the help of the sklearn library and CountVectorize the attribute reviews can be vectorized.   \n",
    "\n",
    "### The classifiers  can only be applied once the string is converted to vectors. This is a pre requisite  for sklearn classifiers. \n",
    "\n",
    "### Once the column \"review\" is converted to vectors the target value and the input values are selected. \n",
    "\n",
    "### The next step is to split the dataset into testing and training dataset. \n",
    "\n",
    "### The first classifier that will be used to check the accuracy score is the Gaussian NaiveBayes. This classifier can be used by importing the naive bayes module from sklearn. \n",
    "\n",
    "### The confusion matrix and the classification report will also be needed to know if the classifier is suited for the dataset.\n"
   ]
  },
  {
   "cell_type": "code",
   "execution_count": 90,
   "metadata": {},
   "outputs": [
    {
     "name": "stdout",
     "output_type": "stream",
     "text": [
      "             precision    recall  f1-score   support\n",
      "\n",
      "          0       0.86      0.48      0.61       105\n",
      "          1       0.61      0.92      0.73        95\n",
      "\n",
      "avg / total       0.74      0.69      0.67       200\n",
      "\n",
      "[[50 55]\n",
      " [ 8 87]]\n",
      "0.685\n"
     ]
    }
   ],
   "source": [
    "from sklearn.feature_extraction.text import CountVectorizer\n",
    "cv = CountVectorizer(max_features = 1500)\n",
    "X = cv.fit_transform(corpus).toarray()\n",
    "y = df.iloc[:, 1].values\n",
    "\n",
    "# Splitting the dataset into the Training set and Test set\n",
    "from sklearn.model_selection import train_test_split\n",
    "X_train, X_test, y_train, y_test = train_test_split(X, y, test_size=0.2, random_state = 50)\n",
    "\n",
    "# Fitting Naive Bayes to the Training set\n",
    "from sklearn.naive_bayes import GaussianNB\n",
    "classifier = GaussianNB()\n",
    "classifier.fit(X_train, y_train)\n",
    "\n",
    "# Predicting the Test set results\n",
    "y_pred = classifier.predict(X_test)\n",
    "\n",
    "# Making the Confusion Matrix and Classification Report\n",
    "from sklearn.metrics import confusion_matrix\n",
    "from sklearn.metrics import classification_report\n",
    "cm = confusion_matrix(y_test, y_pred)\n",
    "report = classification_report(y_test, y_pred)\n",
    "print(report)\n",
    "print(cm)\n",
    "print(classifier.score(X_test,y_test))"
   ]
  },
  {
   "cell_type": "markdown",
   "metadata": {},
   "source": [
    "### Logistic Regression algorithm.  Here the test and train data are spilt into 30% and 70% respectively.  value logreg is assigned to LogisticRegression(). THe logreg will be used to get the output of the accuracy score, the classification report and the confusion matrix"
   ]
  },
  {
   "cell_type": "code",
   "execution_count": null,
   "metadata": {},
   "outputs": [],
   "source": []
  },
  {
   "cell_type": "code",
   "execution_count": 91,
   "metadata": {},
   "outputs": [
    {
     "name": "stdout",
     "output_type": "stream",
     "text": [
      "0.7466666666666667\n",
      "[[113  27]\n",
      " [ 49 111]]\n",
      "             precision    recall  f1-score   support\n",
      "\n",
      "          0       0.70      0.81      0.75       140\n",
      "          1       0.80      0.69      0.74       160\n",
      "\n",
      "avg / total       0.75      0.75      0.75       300\n",
      "\n"
     ]
    }
   ],
   "source": [
    "from sklearn.linear_model import LogisticRegression\n",
    "# Create training and test sets\n",
    "X_train, X_test, y_train, y_test = train_test_split(X, y, test_size = 0.30, random_state=45)\n",
    "\n",
    "# Create the classifier: logreg\n",
    "logreg = LogisticRegression()\n",
    "\n",
    "# Fit the classifier to the training data\n",
    "logreg.fit(X_train, y_train)\n",
    "\n",
    "# Predict the labels of the test set: y_pred\n",
    "y_pred = logreg.predict(X_test)\n",
    "print(logreg.score(X_test,y_test))\n",
    "print(confusion_matrix(y_test, y_pred))\n",
    "print(classification_report(y_test, y_pred))"
   ]
  },
  {
   "cell_type": "markdown",
   "metadata": {},
   "source": [
    "### From sklearn LinearSVC model is imported. "
   ]
  },
  {
   "cell_type": "code",
   "execution_count": 92,
   "metadata": {},
   "outputs": [
    {
     "data": {
      "text/plain": [
       "LinearSVC(C=1.0, class_weight=None, dual=True, fit_intercept=True,\n",
       "     intercept_scaling=1, loss='squared_hinge', max_iter=1000,\n",
       "     multi_class='ovr', penalty='l2', random_state=42, tol=1e-05,\n",
       "     verbose=0)"
      ]
     },
     "execution_count": 92,
     "metadata": {},
     "output_type": "execute_result"
    }
   ],
   "source": [
    "from sklearn.svm import LinearSVC\n",
    "from sklearn.datasets import make_classification\n",
    "clf = LinearSVC(random_state=42, tol=1e-5)\n",
    "clf.fit(X_train, y_train)"
   ]
  },
  {
   "cell_type": "markdown",
   "metadata": {},
   "source": [
    "### Accuracy score for LinearSVC model"
   ]
  },
  {
   "cell_type": "code",
   "execution_count": 93,
   "metadata": {},
   "outputs": [
    {
     "name": "stdout",
     "output_type": "stream",
     "text": [
      "0.75\n",
      "[0 0 1 1 1 1 0 0 1 0 1 0 0 0 0 1 1 0 0 1 1 1 1 0 1 1 1 1 0 0 1 0 1 0 0 1 1\n",
      " 1 0 1 0 0 1 1 1 0 1 0 1 0 1 1 0 1 1 1 1 0 0 1 0 0 1 0 0 0 0 0 1 0 0 1 0 0\n",
      " 1 0 1 0 0 0 0 0 1 1 0 1 0 1 1 0 1 1 0 1 1 1 0 1 0 1 1 0 1 0 0 1 0 1 1 0 0\n",
      " 0 0 0 0 1 0 1 0 1 0 1 0 1 1 0 1 0 1 1 0 0 0 1 1 0 0 1 1 1 1 0 0 1 0 1 0 0\n",
      " 0 0 1 1 0 0 1 0 1 1 0 0 0 1 1 0 1 1 1 1 1 1 1 1 0 1 1 1 0 0 1 0 1 1 0 1 0\n",
      " 0 0 1 1 1 0 0 1 0 0 1 1 1 0 1 0 0 0 0 1 0 0 0 1 0 0 1 0 0 0 0 0 0 1 1 0 0\n",
      " 0 1 0 0 1 1 1 1 0 0 1 0 0 1 0 0 0 1 1 1 1 1 1 1 1 1 1 1 0 1 0 1 0 0 1 1 1\n",
      " 1 0 1 0 1 0 1 0 1 1 1 0 1 0 1 1 1 1 1 0 0 0 0 0 0 0 1 1 0 0 0 0 0 0 0 1 0\n",
      " 0 0 1 1]\n"
     ]
    },
    {
     "data": {
      "text/plain": [
       "300"
      ]
     },
     "execution_count": 93,
     "metadata": {},
     "output_type": "execute_result"
    }
   ],
   "source": [
    "y_pred = clf.predict(X_test)\n",
    "print(clf.score(X_test,y_test))\n",
    "print( y_pred)\n",
    "\n",
    "y_pred.size"
   ]
  },
  {
   "cell_type": "markdown",
   "metadata": {},
   "source": [
    "### Confusion matrix"
   ]
  },
  {
   "cell_type": "code",
   "execution_count": 94,
   "metadata": {},
   "outputs": [
    {
     "name": "stdout",
     "output_type": "stream",
     "text": [
      "[[108  32]\n",
      " [ 43 117]]\n"
     ]
    }
   ],
   "source": [
    "print(confusion_matrix(y_test, y_pred))"
   ]
  },
  {
   "cell_type": "markdown",
   "metadata": {},
   "source": [
    "### Clasification report."
   ]
  },
  {
   "cell_type": "code",
   "execution_count": 95,
   "metadata": {},
   "outputs": [
    {
     "name": "stdout",
     "output_type": "stream",
     "text": [
      "             precision    recall  f1-score   support\n",
      "\n",
      "          0       0.72      0.77      0.74       140\n",
      "          1       0.79      0.73      0.76       160\n",
      "\n",
      "avg / total       0.75      0.75      0.75       300\n",
      "\n"
     ]
    }
   ],
   "source": [
    "print(classification_report(y_test, y_pred))"
   ]
  },
  {
   "cell_type": "markdown",
   "metadata": {},
   "source": [
    "### DecisionTree Classifier. \n",
    "\n",
    "### Accuracy score for classifier"
   ]
  },
  {
   "cell_type": "code",
   "execution_count": 96,
   "metadata": {},
   "outputs": [
    {
     "name": "stdout",
     "output_type": "stream",
     "text": [
      "0.7066666666666667\n",
      "[1 0 0 0 1 1 0 0 0 0 0 0 0 0 0 0 1 0 0 1 1 1 0 0 1 1 1 1 0 0 0 0 0 0 0 0 1\n",
      " 1 0 1 0 0 1 1 0 0 1 0 1 1 1 1 0 1 0 1 1 0 0 0 0 0 1 0 1 0 0 0 0 1 0 1 0 1\n",
      " 1 0 1 0 0 0 0 0 1 0 0 1 0 1 1 0 1 1 0 1 1 0 0 1 0 0 1 0 1 0 0 1 0 1 1 0 0\n",
      " 0 0 0 0 0 0 1 0 1 0 0 0 1 1 0 1 0 1 0 0 0 0 1 1 0 0 1 1 1 1 0 1 1 0 1 1 0\n",
      " 0 0 1 1 0 1 1 1 1 1 0 1 0 0 1 0 0 1 0 1 1 0 1 0 0 0 0 1 0 0 1 0 1 1 0 1 0\n",
      " 0 0 1 0 1 0 0 0 0 0 1 0 1 0 1 0 0 0 0 1 0 0 0 0 0 0 1 0 0 0 0 0 0 1 1 0 0\n",
      " 0 0 0 0 1 0 1 1 0 0 0 0 0 1 0 0 0 1 0 0 1 1 0 1 1 1 0 1 0 0 1 0 0 0 0 1 0\n",
      " 0 0 0 0 1 0 0 0 1 1 0 0 1 0 0 0 1 1 1 0 0 0 0 0 0 1 0 1 0 0 0 0 0 0 0 1 0\n",
      " 0 0 1 0]\n"
     ]
    }
   ],
   "source": [
    "from sklearn.tree import DecisionTreeClassifier\n",
    "dt = DecisionTreeClassifier(max_depth=50)\n",
    "\n",
    "# Fit the classifier to the training data\n",
    "dt.fit(X_train, y_train)\n",
    "\n",
    "# Predict the labels of the test set: y_pred\n",
    "y_pred = dt.predict(X_test)\n",
    "print(dt.score(X_test,y_test))\n",
    "print(y_pred)"
   ]
  },
  {
   "cell_type": "markdown",
   "metadata": {},
   "source": [
    "### Confision matrix and Classification Report"
   ]
  },
  {
   "cell_type": "code",
   "execution_count": 97,
   "metadata": {
    "scrolled": true
   },
   "outputs": [
    {
     "name": "stdout",
     "output_type": "stream",
     "text": [
      "[[120  20]\n",
      " [ 68  92]]\n",
      "             precision    recall  f1-score   support\n",
      "\n",
      "          0       0.64      0.86      0.73       140\n",
      "          1       0.82      0.57      0.68       160\n",
      "\n",
      "avg / total       0.74      0.71      0.70       300\n",
      "\n"
     ]
    }
   ],
   "source": [
    "print(confusion_matrix(y_test, y_pred))\n",
    "print(classification_report(y_test, y_pred))"
   ]
  },
  {
   "cell_type": "markdown",
   "metadata": {},
   "source": [
    "### Display the tree. The max_depth is set to '5' for a smaller visualization."
   ]
  },
  {
   "cell_type": "code",
   "execution_count": null,
   "metadata": {},
   "outputs": [],
   "source": []
  },
  {
   "cell_type": "code",
   "execution_count": 99,
   "metadata": {},
   "outputs": [
    {
     "data": {
      "image/svg+xml": [
       "<svg height=\"668pt\" viewBox=\"0.00 0.00 803.50 668.00\" width=\"804pt\" xmlns=\"http://www.w3.org/2000/svg\" xmlns:xlink=\"http://www.w3.org/1999/xlink\">\n",
       "<g class=\"graph\" id=\"graph0\" transform=\"scale(1 1) rotate(0) translate(4 664)\">\n",
       "<title>Tree</title>\n",
       "<polygon fill=\"white\" points=\"-4,4 -4,-664 799.5,-664 799.5,4 -4,4\" stroke=\"none\"/>\n",
       "<!-- 0 -->\n",
       "<g class=\"node\" id=\"node1\"><title>0</title>\n",
       "<path d=\"M677,-660C677,-660 571,-660 571,-660 565,-660 559,-654 559,-648 559,-648 559,-604 559,-604 559,-598 565,-592 571,-592 571,-592 677,-592 677,-592 683,-592 689,-598 689,-604 689,-604 689,-648 689,-648 689,-654 683,-660 677,-660\" fill=\"#e58139\" fill-opacity=\"0.054902\" stroke=\"black\"/>\n",
       "<text font-family=\"Helvetica,sans-Serif\" font-size=\"14.00\" text-anchor=\"middle\" x=\"624\" y=\"-644.8\">X[583] &lt;= 0.5</text>\n",
       "<text font-family=\"Helvetica,sans-Serif\" font-size=\"14.00\" text-anchor=\"middle\" x=\"624\" y=\"-629.8\">gini = 0.5</text>\n",
       "<text font-family=\"Helvetica,sans-Serif\" font-size=\"14.00\" text-anchor=\"middle\" x=\"624\" y=\"-614.8\">samples = 700</text>\n",
       "<text font-family=\"Helvetica,sans-Serif\" font-size=\"14.00\" text-anchor=\"middle\" x=\"624\" y=\"-599.8\">value = [360, 340]</text>\n",
       "</g>\n",
       "<!-- 1 -->\n",
       "<g class=\"node\" id=\"node2\"><title>1</title>\n",
       "<path d=\"M609,-556C609,-556 503,-556 503,-556 497,-556 491,-550 491,-544 491,-544 491,-500 491,-500 491,-494 497,-488 503,-488 503,-488 609,-488 609,-488 615,-488 621,-494 621,-500 621,-500 621,-544 621,-544 621,-550 615,-556 609,-556\" fill=\"#e58139\" fill-opacity=\"0.180392\" stroke=\"black\"/>\n",
       "<text font-family=\"Helvetica,sans-Serif\" font-size=\"14.00\" text-anchor=\"middle\" x=\"556\" y=\"-540.8\">X[569] &lt;= 0.5</text>\n",
       "<text font-family=\"Helvetica,sans-Serif\" font-size=\"14.00\" text-anchor=\"middle\" x=\"556\" y=\"-525.8\">gini = 0.495</text>\n",
       "<text font-family=\"Helvetica,sans-Serif\" font-size=\"14.00\" text-anchor=\"middle\" x=\"556\" y=\"-510.8\">samples = 655</text>\n",
       "<text font-family=\"Helvetica,sans-Serif\" font-size=\"14.00\" text-anchor=\"middle\" x=\"556\" y=\"-495.8\">value = [360, 295]</text>\n",
       "</g>\n",
       "<!-- 0&#45;&gt;1 -->\n",
       "<g class=\"edge\" id=\"edge1\"><title>0-&gt;1</title>\n",
       "<path d=\"M601.922,-591.884C596.162,-583.243 589.879,-573.819 583.862,-564.793\" fill=\"none\" stroke=\"black\"/>\n",
       "<polygon fill=\"black\" points=\"586.659,-562.678 578.2,-556.299 580.834,-566.561 586.659,-562.678\" stroke=\"black\"/>\n",
       "<text font-family=\"Helvetica,sans-Serif\" font-size=\"14.00\" text-anchor=\"middle\" x=\"573.297\" y=\"-577.114\">True</text>\n",
       "</g>\n",
       "<!-- 254 -->\n",
       "<g class=\"node\" id=\"node27\"><title>254</title>\n",
       "<path d=\"M732.5,-548.5C732.5,-548.5 651.5,-548.5 651.5,-548.5 645.5,-548.5 639.5,-542.5 639.5,-536.5 639.5,-536.5 639.5,-507.5 639.5,-507.5 639.5,-501.5 645.5,-495.5 651.5,-495.5 651.5,-495.5 732.5,-495.5 732.5,-495.5 738.5,-495.5 744.5,-501.5 744.5,-507.5 744.5,-507.5 744.5,-536.5 744.5,-536.5 744.5,-542.5 738.5,-548.5 732.5,-548.5\" fill=\"#399de5\" stroke=\"black\"/>\n",
       "<text font-family=\"Helvetica,sans-Serif\" font-size=\"14.00\" text-anchor=\"middle\" x=\"692\" y=\"-533.3\">gini = 0.0</text>\n",
       "<text font-family=\"Helvetica,sans-Serif\" font-size=\"14.00\" text-anchor=\"middle\" x=\"692\" y=\"-518.3\">samples = 45</text>\n",
       "<text font-family=\"Helvetica,sans-Serif\" font-size=\"14.00\" text-anchor=\"middle\" x=\"692\" y=\"-503.3\">value = [0, 45]</text>\n",
       "</g>\n",
       "<!-- 0&#45;&gt;254 -->\n",
       "<g class=\"edge\" id=\"edge26\"><title>0-&gt;254</title>\n",
       "<path d=\"M646.078,-591.884C653.556,-580.666 661.916,-568.126 669.432,-556.852\" fill=\"none\" stroke=\"black\"/>\n",
       "<polygon fill=\"black\" points=\"672.352,-558.782 674.987,-548.52 666.527,-554.899 672.352,-558.782\" stroke=\"black\"/>\n",
       "<text font-family=\"Helvetica,sans-Serif\" font-size=\"14.00\" text-anchor=\"middle\" x=\"679.89\" y=\"-569.334\">False</text>\n",
       "</g>\n",
       "<!-- 2 -->\n",
       "<g class=\"node\" id=\"node3\"><title>2</title>\n",
       "<path d=\"M539,-452C539,-452 433,-452 433,-452 427,-452 421,-446 421,-440 421,-440 421,-396 421,-396 421,-390 427,-384 433,-384 433,-384 539,-384 539,-384 545,-384 551,-390 551,-396 551,-396 551,-440 551,-440 551,-446 545,-452 539,-452\" fill=\"#e58139\" fill-opacity=\"0.282353\" stroke=\"black\"/>\n",
       "<text font-family=\"Helvetica,sans-Serif\" font-size=\"14.00\" text-anchor=\"middle\" x=\"486\" y=\"-436.8\">X[339] &lt;= 0.5</text>\n",
       "<text font-family=\"Helvetica,sans-Serif\" font-size=\"14.00\" text-anchor=\"middle\" x=\"486\" y=\"-421.8\">gini = 0.487</text>\n",
       "<text font-family=\"Helvetica,sans-Serif\" font-size=\"14.00\" text-anchor=\"middle\" x=\"486\" y=\"-406.8\">samples = 588</text>\n",
       "<text font-family=\"Helvetica,sans-Serif\" font-size=\"14.00\" text-anchor=\"middle\" x=\"486\" y=\"-391.8\">value = [342, 246]</text>\n",
       "</g>\n",
       "<!-- 1&#45;&gt;2 -->\n",
       "<g class=\"edge\" id=\"edge2\"><title>1-&gt;2</title>\n",
       "<path d=\"M533.273,-487.884C527.343,-479.243 520.876,-469.819 514.681,-460.793\" fill=\"none\" stroke=\"black\"/>\n",
       "<polygon fill=\"black\" points=\"517.397,-458.564 508.853,-452.299 511.625,-462.525 517.397,-458.564\" stroke=\"black\"/>\n",
       "</g>\n",
       "<!-- 167 -->\n",
       "<g class=\"node\" id=\"node18\"><title>167</title>\n",
       "<path d=\"M670.5,-452C670.5,-452 581.5,-452 581.5,-452 575.5,-452 569.5,-446 569.5,-440 569.5,-440 569.5,-396 569.5,-396 569.5,-390 575.5,-384 581.5,-384 581.5,-384 670.5,-384 670.5,-384 676.5,-384 682.5,-390 682.5,-396 682.5,-396 682.5,-440 682.5,-440 682.5,-446 676.5,-452 670.5,-452\" fill=\"#399de5\" fill-opacity=\"0.631373\" stroke=\"black\"/>\n",
       "<text font-family=\"Helvetica,sans-Serif\" font-size=\"14.00\" text-anchor=\"middle\" x=\"626\" y=\"-436.8\">X[410] &lt;= 0.5</text>\n",
       "<text font-family=\"Helvetica,sans-Serif\" font-size=\"14.00\" text-anchor=\"middle\" x=\"626\" y=\"-421.8\">gini = 0.393</text>\n",
       "<text font-family=\"Helvetica,sans-Serif\" font-size=\"14.00\" text-anchor=\"middle\" x=\"626\" y=\"-406.8\">samples = 67</text>\n",
       "<text font-family=\"Helvetica,sans-Serif\" font-size=\"14.00\" text-anchor=\"middle\" x=\"626\" y=\"-391.8\">value = [18, 49]</text>\n",
       "</g>\n",
       "<!-- 1&#45;&gt;167 -->\n",
       "<g class=\"edge\" id=\"edge17\"><title>1-&gt;167</title>\n",
       "<path d=\"M578.727,-487.884C584.657,-479.243 591.124,-469.819 597.319,-460.793\" fill=\"none\" stroke=\"black\"/>\n",
       "<polygon fill=\"black\" points=\"600.375,-462.525 603.147,-452.299 594.603,-458.564 600.375,-462.525\" stroke=\"black\"/>\n",
       "</g>\n",
       "<!-- 3 -->\n",
       "<g class=\"node\" id=\"node4\"><title>3</title>\n",
       "<path d=\"M407,-348C407,-348 301,-348 301,-348 295,-348 289,-342 289,-336 289,-336 289,-292 289,-292 289,-286 295,-280 301,-280 301,-280 407,-280 407,-280 413,-280 419,-286 419,-292 419,-292 419,-336 419,-336 419,-342 413,-348 407,-348\" fill=\"#e58139\" fill-opacity=\"0.329412\" stroke=\"black\"/>\n",
       "<text font-family=\"Helvetica,sans-Serif\" font-size=\"14.00\" text-anchor=\"middle\" x=\"354\" y=\"-332.8\">X[882] &lt;= 0.5</text>\n",
       "<text font-family=\"Helvetica,sans-Serif\" font-size=\"14.00\" text-anchor=\"middle\" x=\"354\" y=\"-317.8\">gini = 0.481</text>\n",
       "<text font-family=\"Helvetica,sans-Serif\" font-size=\"14.00\" text-anchor=\"middle\" x=\"354\" y=\"-302.8\">samples = 572</text>\n",
       "<text font-family=\"Helvetica,sans-Serif\" font-size=\"14.00\" text-anchor=\"middle\" x=\"354\" y=\"-287.8\">value = [342, 230]</text>\n",
       "</g>\n",
       "<!-- 2&#45;&gt;3 -->\n",
       "<g class=\"edge\" id=\"edge3\"><title>2-&gt;3</title>\n",
       "<path d=\"M443.143,-383.884C431.04,-374.531 417.747,-364.259 405.206,-354.568\" fill=\"none\" stroke=\"black\"/>\n",
       "<polygon fill=\"black\" points=\"407.146,-351.644 397.093,-348.299 402.866,-357.183 407.146,-351.644\" stroke=\"black\"/>\n",
       "</g>\n",
       "<!-- 166 -->\n",
       "<g class=\"node\" id=\"node17\"><title>166</title>\n",
       "<path d=\"M530.5,-340.5C530.5,-340.5 449.5,-340.5 449.5,-340.5 443.5,-340.5 437.5,-334.5 437.5,-328.5 437.5,-328.5 437.5,-299.5 437.5,-299.5 437.5,-293.5 443.5,-287.5 449.5,-287.5 449.5,-287.5 530.5,-287.5 530.5,-287.5 536.5,-287.5 542.5,-293.5 542.5,-299.5 542.5,-299.5 542.5,-328.5 542.5,-328.5 542.5,-334.5 536.5,-340.5 530.5,-340.5\" fill=\"#399de5\" stroke=\"black\"/>\n",
       "<text font-family=\"Helvetica,sans-Serif\" font-size=\"14.00\" text-anchor=\"middle\" x=\"490\" y=\"-325.3\">gini = 0.0</text>\n",
       "<text font-family=\"Helvetica,sans-Serif\" font-size=\"14.00\" text-anchor=\"middle\" x=\"490\" y=\"-310.3\">samples = 16</text>\n",
       "<text font-family=\"Helvetica,sans-Serif\" font-size=\"14.00\" text-anchor=\"middle\" x=\"490\" y=\"-295.3\">value = [0, 16]</text>\n",
       "</g>\n",
       "<!-- 2&#45;&gt;166 -->\n",
       "<g class=\"edge\" id=\"edge16\"><title>2-&gt;166</title>\n",
       "<path d=\"M487.299,-383.884C487.717,-373.216 488.182,-361.352 488.607,-350.519\" fill=\"none\" stroke=\"black\"/>\n",
       "<polygon fill=\"black\" points=\"492.105,-350.649 488.999,-340.52 485.11,-350.375 492.105,-350.649\" stroke=\"black\"/>\n",
       "</g>\n",
       "<!-- 4 -->\n",
       "<g class=\"node\" id=\"node5\"><title>4</title>\n",
       "<path d=\"M276,-244C276,-244 170,-244 170,-244 164,-244 158,-238 158,-232 158,-232 158,-188 158,-188 158,-182 164,-176 170,-176 170,-176 276,-176 276,-176 282,-176 288,-182 288,-188 288,-188 288,-232 288,-232 288,-238 282,-244 276,-244\" fill=\"#e58139\" fill-opacity=\"0.372549\" stroke=\"black\"/>\n",
       "<text font-family=\"Helvetica,sans-Serif\" font-size=\"14.00\" text-anchor=\"middle\" x=\"223\" y=\"-228.8\">X[27] &lt;= 0.5</text>\n",
       "<text font-family=\"Helvetica,sans-Serif\" font-size=\"14.00\" text-anchor=\"middle\" x=\"223\" y=\"-213.8\">gini = 0.474</text>\n",
       "<text font-family=\"Helvetica,sans-Serif\" font-size=\"14.00\" text-anchor=\"middle\" x=\"223\" y=\"-198.8\">samples = 553</text>\n",
       "<text font-family=\"Helvetica,sans-Serif\" font-size=\"14.00\" text-anchor=\"middle\" x=\"223\" y=\"-183.8\">value = [340, 213]</text>\n",
       "</g>\n",
       "<!-- 3&#45;&gt;4 -->\n",
       "<g class=\"edge\" id=\"edge4\"><title>3-&gt;4</title>\n",
       "<path d=\"M311.468,-279.884C299.456,-270.531 286.264,-260.259 273.818,-250.568\" fill=\"none\" stroke=\"black\"/>\n",
       "<polygon fill=\"black\" points=\"275.807,-247.681 265.767,-244.299 271.507,-253.205 275.807,-247.681\" stroke=\"black\"/>\n",
       "</g>\n",
       "<!-- 161 -->\n",
       "<g class=\"node\" id=\"node12\"><title>161</title>\n",
       "<path d=\"M399.5,-244C399.5,-244 318.5,-244 318.5,-244 312.5,-244 306.5,-238 306.5,-232 306.5,-232 306.5,-188 306.5,-188 306.5,-182 312.5,-176 318.5,-176 318.5,-176 399.5,-176 399.5,-176 405.5,-176 411.5,-182 411.5,-188 411.5,-188 411.5,-232 411.5,-232 411.5,-238 405.5,-244 399.5,-244\" fill=\"#399de5\" fill-opacity=\"0.882353\" stroke=\"black\"/>\n",
       "<text font-family=\"Helvetica,sans-Serif\" font-size=\"14.00\" text-anchor=\"middle\" x=\"359\" y=\"-228.8\">X[371] &lt;= 0.5</text>\n",
       "<text font-family=\"Helvetica,sans-Serif\" font-size=\"14.00\" text-anchor=\"middle\" x=\"359\" y=\"-213.8\">gini = 0.188</text>\n",
       "<text font-family=\"Helvetica,sans-Serif\" font-size=\"14.00\" text-anchor=\"middle\" x=\"359\" y=\"-198.8\">samples = 19</text>\n",
       "<text font-family=\"Helvetica,sans-Serif\" font-size=\"14.00\" text-anchor=\"middle\" x=\"359\" y=\"-183.8\">value = [2, 17]</text>\n",
       "</g>\n",
       "<!-- 3&#45;&gt;161 -->\n",
       "<g class=\"edge\" id=\"edge11\"><title>3-&gt;161</title>\n",
       "<path d=\"M355.623,-279.884C356.021,-271.778 356.452,-262.982 356.869,-254.472\" fill=\"none\" stroke=\"black\"/>\n",
       "<polygon fill=\"black\" points=\"360.374,-254.459 357.368,-244.299 353.382,-254.116 360.374,-254.459\" stroke=\"black\"/>\n",
       "</g>\n",
       "<!-- 5 -->\n",
       "<g class=\"node\" id=\"node6\"><title>5</title>\n",
       "<path d=\"M146,-140C146,-140 40,-140 40,-140 34,-140 28,-134 28,-128 28,-128 28,-84 28,-84 28,-78 34,-72 40,-72 40,-72 146,-72 146,-72 152,-72 158,-78 158,-84 158,-84 158,-128 158,-128 158,-134 152,-140 146,-140\" fill=\"#e58139\" fill-opacity=\"0.411765\" stroke=\"black\"/>\n",
       "<text font-family=\"Helvetica,sans-Serif\" font-size=\"14.00\" text-anchor=\"middle\" x=\"93\" y=\"-124.8\">X[777] &lt;= 0.5</text>\n",
       "<text font-family=\"Helvetica,sans-Serif\" font-size=\"14.00\" text-anchor=\"middle\" x=\"93\" y=\"-109.8\">gini = 0.467</text>\n",
       "<text font-family=\"Helvetica,sans-Serif\" font-size=\"14.00\" text-anchor=\"middle\" x=\"93\" y=\"-94.8\">samples = 539</text>\n",
       "<text font-family=\"Helvetica,sans-Serif\" font-size=\"14.00\" text-anchor=\"middle\" x=\"93\" y=\"-79.8\">value = [339, 200]</text>\n",
       "</g>\n",
       "<!-- 4&#45;&gt;5 -->\n",
       "<g class=\"edge\" id=\"edge5\"><title>4-&gt;5</title>\n",
       "<path d=\"M180.793,-175.884C168.873,-166.531 155.781,-156.259 143.43,-146.568\" fill=\"none\" stroke=\"black\"/>\n",
       "<polygon fill=\"black\" points=\"145.468,-143.719 135.44,-140.299 141.147,-149.226 145.468,-143.719\" stroke=\"black\"/>\n",
       "</g>\n",
       "<!-- 158 -->\n",
       "<g class=\"node\" id=\"node9\"><title>158</title>\n",
       "<path d=\"M269.5,-140C269.5,-140 188.5,-140 188.5,-140 182.5,-140 176.5,-134 176.5,-128 176.5,-128 176.5,-84 176.5,-84 176.5,-78 182.5,-72 188.5,-72 188.5,-72 269.5,-72 269.5,-72 275.5,-72 281.5,-78 281.5,-84 281.5,-84 281.5,-128 281.5,-128 281.5,-134 275.5,-140 269.5,-140\" fill=\"#399de5\" fill-opacity=\"0.921569\" stroke=\"black\"/>\n",
       "<text font-family=\"Helvetica,sans-Serif\" font-size=\"14.00\" text-anchor=\"middle\" x=\"229\" y=\"-124.8\">X[459] &lt;= 0.5</text>\n",
       "<text font-family=\"Helvetica,sans-Serif\" font-size=\"14.00\" text-anchor=\"middle\" x=\"229\" y=\"-109.8\">gini = 0.133</text>\n",
       "<text font-family=\"Helvetica,sans-Serif\" font-size=\"14.00\" text-anchor=\"middle\" x=\"229\" y=\"-94.8\">samples = 14</text>\n",
       "<text font-family=\"Helvetica,sans-Serif\" font-size=\"14.00\" text-anchor=\"middle\" x=\"229\" y=\"-79.8\">value = [1, 13]</text>\n",
       "</g>\n",
       "<!-- 4&#45;&gt;158 -->\n",
       "<g class=\"edge\" id=\"edge8\"><title>4-&gt;158</title>\n",
       "<path d=\"M224.948,-175.884C225.425,-167.778 225.942,-158.982 226.443,-150.472\" fill=\"none\" stroke=\"black\"/>\n",
       "<polygon fill=\"black\" points=\"229.948,-150.488 227.041,-140.299 222.96,-150.077 229.948,-150.488\" stroke=\"black\"/>\n",
       "</g>\n",
       "<!-- 6 -->\n",
       "<g class=\"node\" id=\"node7\"><title>6</title>\n",
       "<path d=\"M42,-36C42,-36 12,-36 12,-36 6,-36 0,-30 0,-24 0,-24 0,-12 0,-12 0,-6 6,-0 12,-0 12,-0 42,-0 42,-0 48,-0 54,-6 54,-12 54,-12 54,-24 54,-24 54,-30 48,-36 42,-36\" fill=\"#c0c0c0\" stroke=\"black\"/>\n",
       "<text font-family=\"Helvetica,sans-Serif\" font-size=\"14.00\" text-anchor=\"middle\" x=\"27\" y=\"-14.3\">(...)</text>\n",
       "</g>\n",
       "<!-- 5&#45;&gt;6 -->\n",
       "<g class=\"edge\" id=\"edge6\"><title>5-&gt;6</title>\n",
       "<path d=\"M67.6714,-71.9961C60.6918,-62.9014 53.2275,-53.1752 46.6235,-44.57\" fill=\"none\" stroke=\"black\"/>\n",
       "<polygon fill=\"black\" points=\"49.2209,-42.2056 40.3561,-36.4034 43.6677,-46.4674 49.2209,-42.2056\" stroke=\"black\"/>\n",
       "</g>\n",
       "<!-- 155 -->\n",
       "<g class=\"node\" id=\"node8\"><title>155</title>\n",
       "<path d=\"M114,-36C114,-36 84,-36 84,-36 78,-36 72,-30 72,-24 72,-24 72,-12 72,-12 72,-6 78,-0 84,-0 84,-0 114,-0 114,-0 120,-0 126,-6 126,-12 126,-12 126,-24 126,-24 126,-30 120,-36 114,-36\" fill=\"#c0c0c0\" stroke=\"black\"/>\n",
       "<text font-family=\"Helvetica,sans-Serif\" font-size=\"14.00\" text-anchor=\"middle\" x=\"99\" y=\"-14.3\">(...)</text>\n",
       "</g>\n",
       "<!-- 5&#45;&gt;155 -->\n",
       "<g class=\"edge\" id=\"edge7\"><title>5-&gt;155</title>\n",
       "<path d=\"M95.3026,-71.9961C95.8908,-63.5646 96.517,-54.5902 97.0835,-46.4696\" fill=\"none\" stroke=\"black\"/>\n",
       "<polygon fill=\"black\" points=\"100.581,-46.6228 97.7858,-36.4034 93.5982,-46.1355 100.581,-46.6228\" stroke=\"black\"/>\n",
       "</g>\n",
       "<!-- 159 -->\n",
       "<g class=\"node\" id=\"node10\"><title>159</title>\n",
       "<path d=\"M209,-36C209,-36 179,-36 179,-36 173,-36 167,-30 167,-24 167,-24 167,-12 167,-12 167,-6 173,-0 179,-0 179,-0 209,-0 209,-0 215,-0 221,-6 221,-12 221,-12 221,-24 221,-24 221,-30 215,-36 209,-36\" fill=\"#c0c0c0\" stroke=\"black\"/>\n",
       "<text font-family=\"Helvetica,sans-Serif\" font-size=\"14.00\" text-anchor=\"middle\" x=\"194\" y=\"-14.3\">(...)</text>\n",
       "</g>\n",
       "<!-- 158&#45;&gt;159 -->\n",
       "<g class=\"edge\" id=\"edge9\"><title>158-&gt;159</title>\n",
       "<path d=\"M215.568,-71.9961C212.06,-63.3751 208.32,-54.1866 204.957,-45.9234\" fill=\"none\" stroke=\"black\"/>\n",
       "<polygon fill=\"black\" points=\"208.094,-44.3463 201.083,-36.4034 201.611,-46.9851 208.094,-44.3463\" stroke=\"black\"/>\n",
       "</g>\n",
       "<!-- 160 -->\n",
       "<g class=\"node\" id=\"node11\"><title>160</title>\n",
       "<path d=\"M281,-36C281,-36 251,-36 251,-36 245,-36 239,-30 239,-24 239,-24 239,-12 239,-12 239,-6 245,-0 251,-0 251,-0 281,-0 281,-0 287,-0 293,-6 293,-12 293,-12 293,-24 293,-24 293,-30 287,-36 281,-36\" fill=\"#c0c0c0\" stroke=\"black\"/>\n",
       "<text font-family=\"Helvetica,sans-Serif\" font-size=\"14.00\" text-anchor=\"middle\" x=\"266\" y=\"-14.3\">(...)</text>\n",
       "</g>\n",
       "<!-- 158&#45;&gt;160 -->\n",
       "<g class=\"edge\" id=\"edge10\"><title>158-&gt;160</title>\n",
       "<path d=\"M243.199,-71.9961C246.949,-63.2804 250.948,-53.9846 254.534,-45.6514\" fill=\"none\" stroke=\"black\"/>\n",
       "<polygon fill=\"black\" points=\"257.775,-46.9726 258.512,-36.4034 251.345,-44.2061 257.775,-46.9726\" stroke=\"black\"/>\n",
       "</g>\n",
       "<!-- 162 -->\n",
       "<g class=\"node\" id=\"node13\"><title>162</title>\n",
       "<path d=\"M396.5,-140C396.5,-140 315.5,-140 315.5,-140 309.5,-140 303.5,-134 303.5,-128 303.5,-128 303.5,-84 303.5,-84 303.5,-78 309.5,-72 315.5,-72 315.5,-72 396.5,-72 396.5,-72 402.5,-72 408.5,-78 408.5,-84 408.5,-84 408.5,-128 408.5,-128 408.5,-134 402.5,-140 396.5,-140\" fill=\"#399de5\" fill-opacity=\"0.941176\" stroke=\"black\"/>\n",
       "<text font-family=\"Helvetica,sans-Serif\" font-size=\"14.00\" text-anchor=\"middle\" x=\"356\" y=\"-124.8\">X[250] &lt;= 0.5</text>\n",
       "<text font-family=\"Helvetica,sans-Serif\" font-size=\"14.00\" text-anchor=\"middle\" x=\"356\" y=\"-109.8\">gini = 0.105</text>\n",
       "<text font-family=\"Helvetica,sans-Serif\" font-size=\"14.00\" text-anchor=\"middle\" x=\"356\" y=\"-94.8\">samples = 18</text>\n",
       "<text font-family=\"Helvetica,sans-Serif\" font-size=\"14.00\" text-anchor=\"middle\" x=\"356\" y=\"-79.8\">value = [1, 17]</text>\n",
       "</g>\n",
       "<!-- 161&#45;&gt;162 -->\n",
       "<g class=\"edge\" id=\"edge12\"><title>161-&gt;162</title>\n",
       "<path d=\"M358.026,-175.884C357.788,-167.778 357.529,-158.982 357.279,-150.472\" fill=\"none\" stroke=\"black\"/>\n",
       "<polygon fill=\"black\" points=\"360.772,-150.192 356.979,-140.299 353.775,-150.398 360.772,-150.192\" stroke=\"black\"/>\n",
       "</g>\n",
       "<!-- 165 -->\n",
       "<g class=\"node\" id=\"node16\"><title>165</title>\n",
       "<path d=\"M511.5,-132.5C511.5,-132.5 438.5,-132.5 438.5,-132.5 432.5,-132.5 426.5,-126.5 426.5,-120.5 426.5,-120.5 426.5,-91.5 426.5,-91.5 426.5,-85.5 432.5,-79.5 438.5,-79.5 438.5,-79.5 511.5,-79.5 511.5,-79.5 517.5,-79.5 523.5,-85.5 523.5,-91.5 523.5,-91.5 523.5,-120.5 523.5,-120.5 523.5,-126.5 517.5,-132.5 511.5,-132.5\" fill=\"#e58139\" stroke=\"black\"/>\n",
       "<text font-family=\"Helvetica,sans-Serif\" font-size=\"14.00\" text-anchor=\"middle\" x=\"475\" y=\"-117.3\">gini = 0.0</text>\n",
       "<text font-family=\"Helvetica,sans-Serif\" font-size=\"14.00\" text-anchor=\"middle\" x=\"475\" y=\"-102.3\">samples = 1</text>\n",
       "<text font-family=\"Helvetica,sans-Serif\" font-size=\"14.00\" text-anchor=\"middle\" x=\"475\" y=\"-87.3\">value = [1, 0]</text>\n",
       "</g>\n",
       "<!-- 161&#45;&gt;165 -->\n",
       "<g class=\"edge\" id=\"edge15\"><title>161-&gt;165</title>\n",
       "<path d=\"M396.662,-175.884C410.045,-164.116 425.082,-150.894 438.377,-139.203\" fill=\"none\" stroke=\"black\"/>\n",
       "<polygon fill=\"black\" points=\"440.779,-141.752 445.977,-132.52 436.156,-136.495 440.779,-141.752\" stroke=\"black\"/>\n",
       "</g>\n",
       "<!-- 163 -->\n",
       "<g class=\"node\" id=\"node14\"><title>163</title>\n",
       "<path d=\"M365,-36C365,-36 335,-36 335,-36 329,-36 323,-30 323,-24 323,-24 323,-12 323,-12 323,-6 329,-0 335,-0 335,-0 365,-0 365,-0 371,-0 377,-6 377,-12 377,-12 377,-24 377,-24 377,-30 371,-36 365,-36\" fill=\"#c0c0c0\" stroke=\"black\"/>\n",
       "<text font-family=\"Helvetica,sans-Serif\" font-size=\"14.00\" text-anchor=\"middle\" x=\"350\" y=\"-14.3\">(...)</text>\n",
       "</g>\n",
       "<!-- 162&#45;&gt;163 -->\n",
       "<g class=\"edge\" id=\"edge13\"><title>162-&gt;163</title>\n",
       "<path d=\"M353.697,-71.9961C353.109,-63.5646 352.483,-54.5902 351.916,-46.4696\" fill=\"none\" stroke=\"black\"/>\n",
       "<polygon fill=\"black\" points=\"355.402,-46.1355 351.214,-36.4034 348.419,-46.6228 355.402,-46.1355\" stroke=\"black\"/>\n",
       "</g>\n",
       "<!-- 164 -->\n",
       "<g class=\"node\" id=\"node15\"><title>164</title>\n",
       "<path d=\"M437,-36C437,-36 407,-36 407,-36 401,-36 395,-30 395,-24 395,-24 395,-12 395,-12 395,-6 401,-0 407,-0 407,-0 437,-0 437,-0 443,-0 449,-6 449,-12 449,-12 449,-24 449,-24 449,-30 443,-36 437,-36\" fill=\"#c0c0c0\" stroke=\"black\"/>\n",
       "<text font-family=\"Helvetica,sans-Serif\" font-size=\"14.00\" text-anchor=\"middle\" x=\"422\" y=\"-14.3\">(...)</text>\n",
       "</g>\n",
       "<!-- 162&#45;&gt;164 -->\n",
       "<g class=\"edge\" id=\"edge14\"><title>162-&gt;164</title>\n",
       "<path d=\"M381.329,-71.9961C388.308,-62.9014 395.773,-53.1752 402.377,-44.57\" fill=\"none\" stroke=\"black\"/>\n",
       "<polygon fill=\"black\" points=\"405.332,-46.4674 408.644,-36.4034 399.779,-42.2056 405.332,-46.4674\" stroke=\"black\"/>\n",
       "</g>\n",
       "<!-- 168 -->\n",
       "<g class=\"node\" id=\"node19\"><title>168</title>\n",
       "<path d=\"M668.5,-348C668.5,-348 579.5,-348 579.5,-348 573.5,-348 567.5,-342 567.5,-336 567.5,-336 567.5,-292 567.5,-292 567.5,-286 573.5,-280 579.5,-280 579.5,-280 668.5,-280 668.5,-280 674.5,-280 680.5,-286 680.5,-292 680.5,-292 680.5,-336 680.5,-336 680.5,-342 674.5,-348 668.5,-348\" fill=\"#399de5\" fill-opacity=\"0.674510\" stroke=\"black\"/>\n",
       "<text font-family=\"Helvetica,sans-Serif\" font-size=\"14.00\" text-anchor=\"middle\" x=\"624\" y=\"-332.8\">X[503] &lt;= 0.5</text>\n",
       "<text font-family=\"Helvetica,sans-Serif\" font-size=\"14.00\" text-anchor=\"middle\" x=\"624\" y=\"-317.8\">gini = 0.371</text>\n",
       "<text font-family=\"Helvetica,sans-Serif\" font-size=\"14.00\" text-anchor=\"middle\" x=\"624\" y=\"-302.8\">samples = 65</text>\n",
       "<text font-family=\"Helvetica,sans-Serif\" font-size=\"14.00\" text-anchor=\"middle\" x=\"624\" y=\"-287.8\">value = [16, 49]</text>\n",
       "</g>\n",
       "<!-- 167&#45;&gt;168 -->\n",
       "<g class=\"edge\" id=\"edge18\"><title>167-&gt;168</title>\n",
       "<path d=\"M625.351,-383.884C625.192,-375.778 625.019,-366.982 624.852,-358.472\" fill=\"none\" stroke=\"black\"/>\n",
       "<polygon fill=\"black\" points=\"628.348,-358.229 624.653,-348.299 621.35,-358.366 628.348,-358.229\" stroke=\"black\"/>\n",
       "</g>\n",
       "<!-- 253 -->\n",
       "<g class=\"node\" id=\"node26\"><title>253</title>\n",
       "<path d=\"M783.5,-340.5C783.5,-340.5 710.5,-340.5 710.5,-340.5 704.5,-340.5 698.5,-334.5 698.5,-328.5 698.5,-328.5 698.5,-299.5 698.5,-299.5 698.5,-293.5 704.5,-287.5 710.5,-287.5 710.5,-287.5 783.5,-287.5 783.5,-287.5 789.5,-287.5 795.5,-293.5 795.5,-299.5 795.5,-299.5 795.5,-328.5 795.5,-328.5 795.5,-334.5 789.5,-340.5 783.5,-340.5\" fill=\"#e58139\" stroke=\"black\"/>\n",
       "<text font-family=\"Helvetica,sans-Serif\" font-size=\"14.00\" text-anchor=\"middle\" x=\"747\" y=\"-325.3\">gini = 0.0</text>\n",
       "<text font-family=\"Helvetica,sans-Serif\" font-size=\"14.00\" text-anchor=\"middle\" x=\"747\" y=\"-310.3\">samples = 2</text>\n",
       "<text font-family=\"Helvetica,sans-Serif\" font-size=\"14.00\" text-anchor=\"middle\" x=\"747\" y=\"-295.3\">value = [2, 0]</text>\n",
       "</g>\n",
       "<!-- 167&#45;&gt;253 -->\n",
       "<g class=\"edge\" id=\"edge25\"><title>167-&gt;253</title>\n",
       "<path d=\"M665.285,-383.884C679.245,-372.116 694.93,-358.894 708.798,-347.203\" fill=\"none\" stroke=\"black\"/>\n",
       "<polygon fill=\"black\" points=\"711.336,-349.641 716.726,-340.52 706.825,-344.289 711.336,-349.641\" stroke=\"black\"/>\n",
       "</g>\n",
       "<!-- 169 -->\n",
       "<g class=\"node\" id=\"node20\"><title>169</title>\n",
       "<path d=\"M660.5,-244C660.5,-244 571.5,-244 571.5,-244 565.5,-244 559.5,-238 559.5,-232 559.5,-232 559.5,-188 559.5,-188 559.5,-182 565.5,-176 571.5,-176 571.5,-176 660.5,-176 660.5,-176 666.5,-176 672.5,-182 672.5,-188 672.5,-188 672.5,-232 672.5,-232 672.5,-238 666.5,-244 660.5,-244\" fill=\"#399de5\" fill-opacity=\"0.713725\" stroke=\"black\"/>\n",
       "<text font-family=\"Helvetica,sans-Serif\" font-size=\"14.00\" text-anchor=\"middle\" x=\"616\" y=\"-228.8\">X[1480] &lt;= 0.5</text>\n",
       "<text font-family=\"Helvetica,sans-Serif\" font-size=\"14.00\" text-anchor=\"middle\" x=\"616\" y=\"-213.8\">gini = 0.346</text>\n",
       "<text font-family=\"Helvetica,sans-Serif\" font-size=\"14.00\" text-anchor=\"middle\" x=\"616\" y=\"-198.8\">samples = 63</text>\n",
       "<text font-family=\"Helvetica,sans-Serif\" font-size=\"14.00\" text-anchor=\"middle\" x=\"616\" y=\"-183.8\">value = [14, 49]</text>\n",
       "</g>\n",
       "<!-- 168&#45;&gt;169 -->\n",
       "<g class=\"edge\" id=\"edge19\"><title>168-&gt;169</title>\n",
       "<path d=\"M621.403,-279.884C620.767,-271.778 620.077,-262.982 619.41,-254.472\" fill=\"none\" stroke=\"black\"/>\n",
       "<polygon fill=\"black\" points=\"622.883,-253.995 618.612,-244.299 615.904,-254.542 622.883,-253.995\" stroke=\"black\"/>\n",
       "</g>\n",
       "<!-- 252 -->\n",
       "<g class=\"node\" id=\"node25\"><title>252</title>\n",
       "<path d=\"M775.5,-236.5C775.5,-236.5 702.5,-236.5 702.5,-236.5 696.5,-236.5 690.5,-230.5 690.5,-224.5 690.5,-224.5 690.5,-195.5 690.5,-195.5 690.5,-189.5 696.5,-183.5 702.5,-183.5 702.5,-183.5 775.5,-183.5 775.5,-183.5 781.5,-183.5 787.5,-189.5 787.5,-195.5 787.5,-195.5 787.5,-224.5 787.5,-224.5 787.5,-230.5 781.5,-236.5 775.5,-236.5\" fill=\"#e58139\" stroke=\"black\"/>\n",
       "<text font-family=\"Helvetica,sans-Serif\" font-size=\"14.00\" text-anchor=\"middle\" x=\"739\" y=\"-221.3\">gini = 0.0</text>\n",
       "<text font-family=\"Helvetica,sans-Serif\" font-size=\"14.00\" text-anchor=\"middle\" x=\"739\" y=\"-206.3\">samples = 2</text>\n",
       "<text font-family=\"Helvetica,sans-Serif\" font-size=\"14.00\" text-anchor=\"middle\" x=\"739\" y=\"-191.3\">value = [2, 0]</text>\n",
       "</g>\n",
       "<!-- 168&#45;&gt;252 -->\n",
       "<g class=\"edge\" id=\"edge24\"><title>168-&gt;252</title>\n",
       "<path d=\"M661.337,-279.884C674.605,-268.116 689.512,-254.894 702.692,-243.203\" fill=\"none\" stroke=\"black\"/>\n",
       "<polygon fill=\"black\" points=\"705.069,-245.774 710.228,-236.52 700.424,-240.537 705.069,-245.774\" stroke=\"black\"/>\n",
       "</g>\n",
       "<!-- 170 -->\n",
       "<g class=\"node\" id=\"node21\"><title>170</title>\n",
       "<path d=\"M659.5,-140C659.5,-140 570.5,-140 570.5,-140 564.5,-140 558.5,-134 558.5,-128 558.5,-128 558.5,-84 558.5,-84 558.5,-78 564.5,-72 570.5,-72 570.5,-72 659.5,-72 659.5,-72 665.5,-72 671.5,-78 671.5,-84 671.5,-84 671.5,-128 671.5,-128 671.5,-134 665.5,-140 659.5,-140\" fill=\"#399de5\" fill-opacity=\"0.733333\" stroke=\"black\"/>\n",
       "<text font-family=\"Helvetica,sans-Serif\" font-size=\"14.00\" text-anchor=\"middle\" x=\"615\" y=\"-124.8\">X[1049] &lt;= 0.5</text>\n",
       "<text font-family=\"Helvetica,sans-Serif\" font-size=\"14.00\" text-anchor=\"middle\" x=\"615\" y=\"-109.8\">gini = 0.331</text>\n",
       "<text font-family=\"Helvetica,sans-Serif\" font-size=\"14.00\" text-anchor=\"middle\" x=\"615\" y=\"-94.8\">samples = 62</text>\n",
       "<text font-family=\"Helvetica,sans-Serif\" font-size=\"14.00\" text-anchor=\"middle\" x=\"615\" y=\"-79.8\">value = [13, 49]</text>\n",
       "</g>\n",
       "<!-- 169&#45;&gt;170 -->\n",
       "<g class=\"edge\" id=\"edge20\"><title>169-&gt;170</title>\n",
       "<path d=\"M615.675,-175.884C615.596,-167.778 615.51,-158.982 615.426,-150.472\" fill=\"none\" stroke=\"black\"/>\n",
       "<polygon fill=\"black\" points=\"618.924,-150.265 615.326,-140.299 611.925,-150.333 618.924,-150.265\" stroke=\"black\"/>\n",
       "</g>\n",
       "<!-- 251 -->\n",
       "<g class=\"node\" id=\"node24\"><title>251</title>\n",
       "<path d=\"M774.5,-132.5C774.5,-132.5 701.5,-132.5 701.5,-132.5 695.5,-132.5 689.5,-126.5 689.5,-120.5 689.5,-120.5 689.5,-91.5 689.5,-91.5 689.5,-85.5 695.5,-79.5 701.5,-79.5 701.5,-79.5 774.5,-79.5 774.5,-79.5 780.5,-79.5 786.5,-85.5 786.5,-91.5 786.5,-91.5 786.5,-120.5 786.5,-120.5 786.5,-126.5 780.5,-132.5 774.5,-132.5\" fill=\"#e58139\" stroke=\"black\"/>\n",
       "<text font-family=\"Helvetica,sans-Serif\" font-size=\"14.00\" text-anchor=\"middle\" x=\"738\" y=\"-117.3\">gini = 0.0</text>\n",
       "<text font-family=\"Helvetica,sans-Serif\" font-size=\"14.00\" text-anchor=\"middle\" x=\"738\" y=\"-102.3\">samples = 1</text>\n",
       "<text font-family=\"Helvetica,sans-Serif\" font-size=\"14.00\" text-anchor=\"middle\" x=\"738\" y=\"-87.3\">value = [1, 0]</text>\n",
       "</g>\n",
       "<!-- 169&#45;&gt;251 -->\n",
       "<g class=\"edge\" id=\"edge23\"><title>169-&gt;251</title>\n",
       "<path d=\"M655.61,-175.884C669.685,-164.116 685.5,-150.894 699.482,-139.203\" fill=\"none\" stroke=\"black\"/>\n",
       "<polygon fill=\"black\" points=\"702.049,-141.619 707.476,-132.52 697.559,-136.249 702.049,-141.619\" stroke=\"black\"/>\n",
       "</g>\n",
       "<!-- 171 -->\n",
       "<g class=\"node\" id=\"node22\"><title>171</title>\n",
       "<path d=\"M594,-36C594,-36 564,-36 564,-36 558,-36 552,-30 552,-24 552,-24 552,-12 552,-12 552,-6 558,-0 564,-0 564,-0 594,-0 594,-0 600,-0 606,-6 606,-12 606,-12 606,-24 606,-24 606,-30 600,-36 594,-36\" fill=\"#c0c0c0\" stroke=\"black\"/>\n",
       "<text font-family=\"Helvetica,sans-Serif\" font-size=\"14.00\" text-anchor=\"middle\" x=\"579\" y=\"-14.3\">(...)</text>\n",
       "</g>\n",
       "<!-- 170&#45;&gt;171 -->\n",
       "<g class=\"edge\" id=\"edge21\"><title>170-&gt;171</title>\n",
       "<path d=\"M601.184,-71.9961C597.536,-63.2804 593.645,-53.9846 590.156,-45.6514\" fill=\"none\" stroke=\"black\"/>\n",
       "<polygon fill=\"black\" points=\"593.375,-44.2763 586.285,-36.4034 586.918,-46.9793 593.375,-44.2763\" stroke=\"black\"/>\n",
       "</g>\n",
       "<!-- 250 -->\n",
       "<g class=\"node\" id=\"node23\"><title>250</title>\n",
       "<path d=\"M666,-36C666,-36 636,-36 636,-36 630,-36 624,-30 624,-24 624,-24 624,-12 624,-12 624,-6 630,-0 636,-0 636,-0 666,-0 666,-0 672,-0 678,-6 678,-12 678,-12 678,-24 678,-24 678,-30 672,-36 666,-36\" fill=\"#c0c0c0\" stroke=\"black\"/>\n",
       "<text font-family=\"Helvetica,sans-Serif\" font-size=\"14.00\" text-anchor=\"middle\" x=\"651\" y=\"-14.3\">(...)</text>\n",
       "</g>\n",
       "<!-- 170&#45;&gt;250 -->\n",
       "<g class=\"edge\" id=\"edge22\"><title>170-&gt;250</title>\n",
       "<path d=\"M628.816,-71.9961C632.464,-63.2804 636.355,-53.9846 639.844,-45.6514\" fill=\"none\" stroke=\"black\"/>\n",
       "<polygon fill=\"black\" points=\"643.082,-46.9793 643.715,-36.4034 636.625,-44.2763 643.082,-46.9793\" stroke=\"black\"/>\n",
       "</g>\n",
       "</g>\n",
       "</svg>"
      ],
      "text/plain": [
       "<IPython.core.display.SVG object>"
      ]
     },
     "execution_count": 99,
     "metadata": {},
     "output_type": "execute_result"
    }
   ],
   "source": [
    "import os\n",
    "os.environ[\"PATH\"] += os.pathsep + 'C:/Program Files (x86)/Graphviz2.38/bin/'\n",
    "Source( tree.export_graphviz(dt, out_file=None, filled = True))\n",
    "graph = Source( tree.export_graphviz(dt, out_file=None, filled = True, max_depth= 5, rounded= True))\n",
    "SVG(graph.pipe(format='svg'))"
   ]
  },
  {
   "cell_type": "code",
   "execution_count": null,
   "metadata": {},
   "outputs": [],
   "source": []
  },
  {
   "cell_type": "code",
   "execution_count": null,
   "metadata": {},
   "outputs": [],
   "source": []
  },
  {
   "cell_type": "code",
   "execution_count": null,
   "metadata": {},
   "outputs": [],
   "source": []
  },
  {
   "cell_type": "code",
   "execution_count": null,
   "metadata": {},
   "outputs": [],
   "source": []
  },
  {
   "cell_type": "code",
   "execution_count": null,
   "metadata": {},
   "outputs": [],
   "source": []
  },
  {
   "cell_type": "code",
   "execution_count": null,
   "metadata": {},
   "outputs": [],
   "source": []
  },
  {
   "cell_type": "code",
   "execution_count": null,
   "metadata": {},
   "outputs": [],
   "source": []
  },
  {
   "cell_type": "code",
   "execution_count": null,
   "metadata": {},
   "outputs": [],
   "source": []
  },
  {
   "cell_type": "code",
   "execution_count": null,
   "metadata": {},
   "outputs": [],
   "source": []
  }
 ],
 "metadata": {
  "kernelspec": {
   "display_name": "Python 3",
   "language": "python",
   "name": "python3"
  },
  "language_info": {
   "codemirror_mode": {
    "name": "ipython",
    "version": 3
   },
   "file_extension": ".py",
   "mimetype": "text/x-python",
   "name": "python",
   "nbconvert_exporter": "python",
   "pygments_lexer": "ipython3",
   "version": "3.6.5"
  }
 },
 "nbformat": 4,
 "nbformat_minor": 2
}
